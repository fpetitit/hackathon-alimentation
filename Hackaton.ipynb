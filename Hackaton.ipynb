{
  "nbformat": 4,
  "nbformat_minor": 0,
  "metadata": {
    "colab": {
      "provenance": [],
      "include_colab_link": true
    },
    "kernelspec": {
      "name": "python3",
      "display_name": "Python 3"
    },
    "language_info": {
      "name": "python"
    }
  },
  "cells": [
    {
      "cell_type": "markdown",
      "metadata": {
        "id": "view-in-github",
        "colab_type": "text"
      },
      "source": [
        "<a href=\"https://colab.research.google.com/github/fpetitit/hackathon-alimentation/blob/main/Hackaton.ipynb\" target=\"_parent\"><img src=\"https://colab.research.google.com/assets/colab-badge.svg\" alt=\"Open In Colab\"/></a>"
      ]
    },
    {
      "cell_type": "code",
      "source": [
        "import re\n",
        "import pandas as pd"
      ],
      "metadata": {
        "id": "Xtwvg-4wkv9d"
      },
      "execution_count": null,
      "outputs": []
    },
    {
      "cell_type": "code",
      "execution_count": null,
      "metadata": {
        "id": "wMG71Zm7cnx3",
        "colab": {
          "base_uri": "https://localhost:8080/"
        },
        "outputId": "0326907a-60a4-407d-a318-5c09d597d746"
      },
      "outputs": [
        {
          "output_type": "stream",
          "name": "stderr",
          "text": [
            "<ipython-input-118-14f127147c82>:1: DtypeWarning: Columns (2) have mixed types. Specify dtype option on import or set low_memory=False.\n",
            "  df = pd.read_csv('/content/Fruits_Légumes_Kantar.csv' , encoding='latin-1', sep = ';' )\n"
          ]
        }
      ],
      "source": [
        "df = pd.read_csv('/content/Fruits_Légumes_Kantar.csv' , encoding='latin-1', sep = ';' )"
      ]
    },
    {
      "cell_type": "code",
      "source": [
        "df.head()"
      ],
      "metadata": {
        "colab": {
          "base_uri": "https://localhost:8080/",
          "height": 206
        },
        "id": "YQjQ0RyTgDWI",
        "outputId": "74204f61-9b19-4330-9894-b466ff27a45d"
      },
      "execution_count": null,
      "outputs": [
        {
          "output_type": "execute_result",
          "data": {
            "text/plain": [
              "  duree  annee periode                       geog  \\\n",
              "0     A   2005       A  200 000 HABITANTS ET PLUS   \n",
              "1     A   2005       A  200 000 HABITANTS ET PLUS   \n",
              "2     A   2005       A  200 000 HABITANTS ET PLUS   \n",
              "3     A   2005       A  200 000 HABITANTS ET PLUS   \n",
              "4     A   2005       A  200 000 HABITANTS ET PLUS   \n",
              "\n",
              "                              Libellé_Court         Q_ach         S_dep  \\\n",
              "0                                  6 FRUITS  2.589160e+08  4.141993e+08   \n",
              "1                  6 FRUITS + 9 LEGUMES_BIO  1.191566e+07  2.473982e+07   \n",
              "2              6 FRUITS + 9 LEGUMES_NON BIO  5.830080e+08  9.541179e+08   \n",
              "3      6 FRUITS hors BANANE + 9 LEGUMES_BIO  1.191566e+07  2.473982e+07   \n",
              "4  6 FRUITS hors BANANE + 9 LEGUMES_NON BIO  5.268689e+08  8.690435e+08   \n",
              "\n",
              "        nbr_act  penet      nbr_ach  \n",
              "0  1.789321e+08   96.6  5635084.671  \n",
              "1  7.607372e+06   28.7  1672721.256  \n",
              "2  2.907253e+08   99.0  5776878.199  \n",
              "3  7.607372e+06   28.7  1672721.256  \n",
              "4  2.735817e+08   99.0  5776399.640  "
            ],
            "text/html": [
              "\n",
              "  <div id=\"df-6f5a57d2-e1af-448d-871c-370b12844448\" class=\"colab-df-container\">\n",
              "    <div>\n",
              "<style scoped>\n",
              "    .dataframe tbody tr th:only-of-type {\n",
              "        vertical-align: middle;\n",
              "    }\n",
              "\n",
              "    .dataframe tbody tr th {\n",
              "        vertical-align: top;\n",
              "    }\n",
              "\n",
              "    .dataframe thead th {\n",
              "        text-align: right;\n",
              "    }\n",
              "</style>\n",
              "<table border=\"1\" class=\"dataframe\">\n",
              "  <thead>\n",
              "    <tr style=\"text-align: right;\">\n",
              "      <th></th>\n",
              "      <th>duree</th>\n",
              "      <th>annee</th>\n",
              "      <th>periode</th>\n",
              "      <th>geog</th>\n",
              "      <th>Libellé_Court</th>\n",
              "      <th>Q_ach</th>\n",
              "      <th>S_dep</th>\n",
              "      <th>nbr_act</th>\n",
              "      <th>penet</th>\n",
              "      <th>nbr_ach</th>\n",
              "    </tr>\n",
              "  </thead>\n",
              "  <tbody>\n",
              "    <tr>\n",
              "      <th>0</th>\n",
              "      <td>A</td>\n",
              "      <td>2005</td>\n",
              "      <td>A</td>\n",
              "      <td>200 000 HABITANTS ET PLUS</td>\n",
              "      <td>6 FRUITS</td>\n",
              "      <td>2.589160e+08</td>\n",
              "      <td>4.141993e+08</td>\n",
              "      <td>1.789321e+08</td>\n",
              "      <td>96.6</td>\n",
              "      <td>5635084.671</td>\n",
              "    </tr>\n",
              "    <tr>\n",
              "      <th>1</th>\n",
              "      <td>A</td>\n",
              "      <td>2005</td>\n",
              "      <td>A</td>\n",
              "      <td>200 000 HABITANTS ET PLUS</td>\n",
              "      <td>6 FRUITS + 9 LEGUMES_BIO</td>\n",
              "      <td>1.191566e+07</td>\n",
              "      <td>2.473982e+07</td>\n",
              "      <td>7.607372e+06</td>\n",
              "      <td>28.7</td>\n",
              "      <td>1672721.256</td>\n",
              "    </tr>\n",
              "    <tr>\n",
              "      <th>2</th>\n",
              "      <td>A</td>\n",
              "      <td>2005</td>\n",
              "      <td>A</td>\n",
              "      <td>200 000 HABITANTS ET PLUS</td>\n",
              "      <td>6 FRUITS + 9 LEGUMES_NON BIO</td>\n",
              "      <td>5.830080e+08</td>\n",
              "      <td>9.541179e+08</td>\n",
              "      <td>2.907253e+08</td>\n",
              "      <td>99.0</td>\n",
              "      <td>5776878.199</td>\n",
              "    </tr>\n",
              "    <tr>\n",
              "      <th>3</th>\n",
              "      <td>A</td>\n",
              "      <td>2005</td>\n",
              "      <td>A</td>\n",
              "      <td>200 000 HABITANTS ET PLUS</td>\n",
              "      <td>6 FRUITS hors BANANE + 9 LEGUMES_BIO</td>\n",
              "      <td>1.191566e+07</td>\n",
              "      <td>2.473982e+07</td>\n",
              "      <td>7.607372e+06</td>\n",
              "      <td>28.7</td>\n",
              "      <td>1672721.256</td>\n",
              "    </tr>\n",
              "    <tr>\n",
              "      <th>4</th>\n",
              "      <td>A</td>\n",
              "      <td>2005</td>\n",
              "      <td>A</td>\n",
              "      <td>200 000 HABITANTS ET PLUS</td>\n",
              "      <td>6 FRUITS hors BANANE + 9 LEGUMES_NON BIO</td>\n",
              "      <td>5.268689e+08</td>\n",
              "      <td>8.690435e+08</td>\n",
              "      <td>2.735817e+08</td>\n",
              "      <td>99.0</td>\n",
              "      <td>5776399.640</td>\n",
              "    </tr>\n",
              "  </tbody>\n",
              "</table>\n",
              "</div>\n",
              "    <div class=\"colab-df-buttons\">\n",
              "\n",
              "  <div class=\"colab-df-container\">\n",
              "    <button class=\"colab-df-convert\" onclick=\"convertToInteractive('df-6f5a57d2-e1af-448d-871c-370b12844448')\"\n",
              "            title=\"Convert this dataframe to an interactive table.\"\n",
              "            style=\"display:none;\">\n",
              "\n",
              "  <svg xmlns=\"http://www.w3.org/2000/svg\" height=\"24px\" viewBox=\"0 -960 960 960\">\n",
              "    <path d=\"M120-120v-720h720v720H120Zm60-500h600v-160H180v160Zm220 220h160v-160H400v160Zm0 220h160v-160H400v160ZM180-400h160v-160H180v160Zm440 0h160v-160H620v160ZM180-180h160v-160H180v160Zm440 0h160v-160H620v160Z\"/>\n",
              "  </svg>\n",
              "    </button>\n",
              "\n",
              "  <style>\n",
              "    .colab-df-container {\n",
              "      display:flex;\n",
              "      gap: 12px;\n",
              "    }\n",
              "\n",
              "    .colab-df-convert {\n",
              "      background-color: #E8F0FE;\n",
              "      border: none;\n",
              "      border-radius: 50%;\n",
              "      cursor: pointer;\n",
              "      display: none;\n",
              "      fill: #1967D2;\n",
              "      height: 32px;\n",
              "      padding: 0 0 0 0;\n",
              "      width: 32px;\n",
              "    }\n",
              "\n",
              "    .colab-df-convert:hover {\n",
              "      background-color: #E2EBFA;\n",
              "      box-shadow: 0px 1px 2px rgba(60, 64, 67, 0.3), 0px 1px 3px 1px rgba(60, 64, 67, 0.15);\n",
              "      fill: #174EA6;\n",
              "    }\n",
              "\n",
              "    .colab-df-buttons div {\n",
              "      margin-bottom: 4px;\n",
              "    }\n",
              "\n",
              "    [theme=dark] .colab-df-convert {\n",
              "      background-color: #3B4455;\n",
              "      fill: #D2E3FC;\n",
              "    }\n",
              "\n",
              "    [theme=dark] .colab-df-convert:hover {\n",
              "      background-color: #434B5C;\n",
              "      box-shadow: 0px 1px 3px 1px rgba(0, 0, 0, 0.15);\n",
              "      filter: drop-shadow(0px 1px 2px rgba(0, 0, 0, 0.3));\n",
              "      fill: #FFFFFF;\n",
              "    }\n",
              "  </style>\n",
              "\n",
              "    <script>\n",
              "      const buttonEl =\n",
              "        document.querySelector('#df-6f5a57d2-e1af-448d-871c-370b12844448 button.colab-df-convert');\n",
              "      buttonEl.style.display =\n",
              "        google.colab.kernel.accessAllowed ? 'block' : 'none';\n",
              "\n",
              "      async function convertToInteractive(key) {\n",
              "        const element = document.querySelector('#df-6f5a57d2-e1af-448d-871c-370b12844448');\n",
              "        const dataTable =\n",
              "          await google.colab.kernel.invokeFunction('convertToInteractive',\n",
              "                                                    [key], {});\n",
              "        if (!dataTable) return;\n",
              "\n",
              "        const docLinkHtml = 'Like what you see? Visit the ' +\n",
              "          '<a target=\"_blank\" href=https://colab.research.google.com/notebooks/data_table.ipynb>data table notebook</a>'\n",
              "          + ' to learn more about interactive tables.';\n",
              "        element.innerHTML = '';\n",
              "        dataTable['output_type'] = 'display_data';\n",
              "        await google.colab.output.renderOutput(dataTable, element);\n",
              "        const docLink = document.createElement('div');\n",
              "        docLink.innerHTML = docLinkHtml;\n",
              "        element.appendChild(docLink);\n",
              "      }\n",
              "    </script>\n",
              "  </div>\n",
              "\n",
              "\n",
              "<div id=\"df-1a6b1358-9b2f-427b-85bf-d4d1eca1ffae\">\n",
              "  <button class=\"colab-df-quickchart\" onclick=\"quickchart('df-1a6b1358-9b2f-427b-85bf-d4d1eca1ffae')\"\n",
              "            title=\"Suggest charts\"\n",
              "            style=\"display:none;\">\n",
              "\n",
              "<svg xmlns=\"http://www.w3.org/2000/svg\" height=\"24px\"viewBox=\"0 0 24 24\"\n",
              "     width=\"24px\">\n",
              "    <g>\n",
              "        <path d=\"M19 3H5c-1.1 0-2 .9-2 2v14c0 1.1.9 2 2 2h14c1.1 0 2-.9 2-2V5c0-1.1-.9-2-2-2zM9 17H7v-7h2v7zm4 0h-2V7h2v10zm4 0h-2v-4h2v4z\"/>\n",
              "    </g>\n",
              "</svg>\n",
              "  </button>\n",
              "\n",
              "<style>\n",
              "  .colab-df-quickchart {\n",
              "      --bg-color: #E8F0FE;\n",
              "      --fill-color: #1967D2;\n",
              "      --hover-bg-color: #E2EBFA;\n",
              "      --hover-fill-color: #174EA6;\n",
              "      --disabled-fill-color: #AAA;\n",
              "      --disabled-bg-color: #DDD;\n",
              "  }\n",
              "\n",
              "  [theme=dark] .colab-df-quickchart {\n",
              "      --bg-color: #3B4455;\n",
              "      --fill-color: #D2E3FC;\n",
              "      --hover-bg-color: #434B5C;\n",
              "      --hover-fill-color: #FFFFFF;\n",
              "      --disabled-bg-color: #3B4455;\n",
              "      --disabled-fill-color: #666;\n",
              "  }\n",
              "\n",
              "  .colab-df-quickchart {\n",
              "    background-color: var(--bg-color);\n",
              "    border: none;\n",
              "    border-radius: 50%;\n",
              "    cursor: pointer;\n",
              "    display: none;\n",
              "    fill: var(--fill-color);\n",
              "    height: 32px;\n",
              "    padding: 0;\n",
              "    width: 32px;\n",
              "  }\n",
              "\n",
              "  .colab-df-quickchart:hover {\n",
              "    background-color: var(--hover-bg-color);\n",
              "    box-shadow: 0 1px 2px rgba(60, 64, 67, 0.3), 0 1px 3px 1px rgba(60, 64, 67, 0.15);\n",
              "    fill: var(--button-hover-fill-color);\n",
              "  }\n",
              "\n",
              "  .colab-df-quickchart-complete:disabled,\n",
              "  .colab-df-quickchart-complete:disabled:hover {\n",
              "    background-color: var(--disabled-bg-color);\n",
              "    fill: var(--disabled-fill-color);\n",
              "    box-shadow: none;\n",
              "  }\n",
              "\n",
              "  .colab-df-spinner {\n",
              "    border: 2px solid var(--fill-color);\n",
              "    border-color: transparent;\n",
              "    border-bottom-color: var(--fill-color);\n",
              "    animation:\n",
              "      spin 1s steps(1) infinite;\n",
              "  }\n",
              "\n",
              "  @keyframes spin {\n",
              "    0% {\n",
              "      border-color: transparent;\n",
              "      border-bottom-color: var(--fill-color);\n",
              "      border-left-color: var(--fill-color);\n",
              "    }\n",
              "    20% {\n",
              "      border-color: transparent;\n",
              "      border-left-color: var(--fill-color);\n",
              "      border-top-color: var(--fill-color);\n",
              "    }\n",
              "    30% {\n",
              "      border-color: transparent;\n",
              "      border-left-color: var(--fill-color);\n",
              "      border-top-color: var(--fill-color);\n",
              "      border-right-color: var(--fill-color);\n",
              "    }\n",
              "    40% {\n",
              "      border-color: transparent;\n",
              "      border-right-color: var(--fill-color);\n",
              "      border-top-color: var(--fill-color);\n",
              "    }\n",
              "    60% {\n",
              "      border-color: transparent;\n",
              "      border-right-color: var(--fill-color);\n",
              "    }\n",
              "    80% {\n",
              "      border-color: transparent;\n",
              "      border-right-color: var(--fill-color);\n",
              "      border-bottom-color: var(--fill-color);\n",
              "    }\n",
              "    90% {\n",
              "      border-color: transparent;\n",
              "      border-bottom-color: var(--fill-color);\n",
              "    }\n",
              "  }\n",
              "</style>\n",
              "\n",
              "  <script>\n",
              "    async function quickchart(key) {\n",
              "      const quickchartButtonEl =\n",
              "        document.querySelector('#' + key + ' button');\n",
              "      quickchartButtonEl.disabled = true;  // To prevent multiple clicks.\n",
              "      quickchartButtonEl.classList.add('colab-df-spinner');\n",
              "      try {\n",
              "        const charts = await google.colab.kernel.invokeFunction(\n",
              "            'suggestCharts', [key], {});\n",
              "      } catch (error) {\n",
              "        console.error('Error during call to suggestCharts:', error);\n",
              "      }\n",
              "      quickchartButtonEl.classList.remove('colab-df-spinner');\n",
              "      quickchartButtonEl.classList.add('colab-df-quickchart-complete');\n",
              "    }\n",
              "    (() => {\n",
              "      let quickchartButtonEl =\n",
              "        document.querySelector('#df-1a6b1358-9b2f-427b-85bf-d4d1eca1ffae button');\n",
              "      quickchartButtonEl.style.display =\n",
              "        google.colab.kernel.accessAllowed ? 'block' : 'none';\n",
              "    })();\n",
              "  </script>\n",
              "</div>\n",
              "\n",
              "    </div>\n",
              "  </div>\n"
            ],
            "application/vnd.google.colaboratory.intrinsic+json": {
              "type": "dataframe",
              "variable_name": "df"
            }
          },
          "metadata": {},
          "execution_count": 119
        }
      ]
    },
    {
      "cell_type": "code",
      "source": [
        "df = df.rename(columns={'Libellé_Court': 'label'})"
      ],
      "metadata": {
        "id": "QyvD66OIoU5L"
      },
      "execution_count": null,
      "outputs": []
    },
    {
      "cell_type": "code",
      "source": [
        "df.info()"
      ],
      "metadata": {
        "colab": {
          "base_uri": "https://localhost:8080/"
        },
        "id": "wij0bXS1notb",
        "outputId": "ec85ce97-a067-4526-eb34-f82a97248c25"
      },
      "execution_count": null,
      "outputs": [
        {
          "output_type": "stream",
          "name": "stdout",
          "text": [
            "<class 'pandas.core.frame.DataFrame'>\n",
            "RangeIndex: 2679623 entries, 0 to 2679622\n",
            "Data columns (total 10 columns):\n",
            " #   Column   Dtype  \n",
            "---  ------   -----  \n",
            " 0   duree    object \n",
            " 1   annee    int64  \n",
            " 2   periode  object \n",
            " 3   geog     object \n",
            " 4   label    object \n",
            " 5   Q_ach    float64\n",
            " 6   S_dep    float64\n",
            " 7   nbr_act  float64\n",
            " 8   penet    float64\n",
            " 9   nbr_ach  float64\n",
            "dtypes: float64(5), int64(1), object(4)\n",
            "memory usage: 204.4+ MB\n"
          ]
        }
      ]
    },
    {
      "cell_type": "code",
      "source": [
        "def find_tomate(df, colonne='label'):\n",
        "  regex = fr'\\b{str}(?:es?|_[A-Za-z]+)?\\b'\n",
        "  resultats = df[df[colonne].str.contains(regex, flags=re.IGNORECASE, na=False)]\n",
        "  return resultats"
      ],
      "metadata": {
        "id": "fX-A0wcwgHrk"
      },
      "execution_count": null,
      "outputs": []
    },
    {
      "cell_type": "code",
      "source": [
        "df.shape"
      ],
      "metadata": {
        "colab": {
          "base_uri": "https://localhost:8080/"
        },
        "id": "lP2e3Xtun1xV",
        "outputId": "59d0d476-f280-4d95-dba7-c966dfb9c9ba"
      },
      "execution_count": null,
      "outputs": [
        {
          "output_type": "execute_result",
          "data": {
            "text/plain": [
              "(2679623, 10)"
            ]
          },
          "metadata": {},
          "execution_count": 129
        }
      ]
    },
    {
      "cell_type": "code",
      "source": [
        "df_tomate = find_tomate(df)"
      ],
      "metadata": {
        "id": "-TS0aHSqm6t6"
      },
      "execution_count": null,
      "outputs": []
    },
    {
      "cell_type": "code",
      "source": [
        "df_tomate.shape"
      ],
      "metadata": {
        "colab": {
          "base_uri": "https://localhost:8080/"
        },
        "id": "fqMpqrmznstT",
        "outputId": "bb6502c2-48af-4147-c5f8-baa41c72970f"
      },
      "execution_count": null,
      "outputs": [
        {
          "output_type": "execute_result",
          "data": {
            "text/plain": [
              "(0, 10)"
            ]
          },
          "metadata": {},
          "execution_count": 128
        }
      ]
    },
    {
      "cell_type": "code",
      "source": [
        "df_last_ten_years = df_tomate[df_tomate.annee >= 2013]"
      ],
      "metadata": {
        "id": "bzMG42_pna7A"
      },
      "execution_count": null,
      "outputs": []
    },
    {
      "cell_type": "code",
      "source": [
        "df_last_ten_years.annee.unique()"
      ],
      "metadata": {
        "colab": {
          "base_uri": "https://localhost:8080/"
        },
        "id": "3khRW4UDiEdI",
        "outputId": "065c74a6-6c0d-40a9-994f-605fd351ed43"
      },
      "execution_count": null,
      "outputs": [
        {
          "output_type": "execute_result",
          "data": {
            "text/plain": [
              "array([2005, 2006, 2007, 2008, 2009, 2010, 2011, 2012, 2013, 2014, 2015,\n",
              "       2016, 2017, 2018, 2019, 2020, 2021, 2022, 2023])"
            ]
          },
          "metadata": {},
          "execution_count": 9
        }
      ]
    },
    {
      "cell_type": "code",
      "source": [
        "df.info()"
      ],
      "metadata": {
        "colab": {
          "base_uri": "https://localhost:8080/"
        },
        "id": "ZLF_O7Ccinf1",
        "outputId": "9ae42a0b-fbf0-4e08-c04a-4c1f5c3645e7"
      },
      "execution_count": null,
      "outputs": [
        {
          "output_type": "stream",
          "name": "stdout",
          "text": [
            "<class 'pandas.core.frame.DataFrame'>\n",
            "RangeIndex: 1322006 entries, 0 to 1322005\n",
            "Data columns (total 10 columns):\n",
            " #   Column         Non-Null Count    Dtype  \n",
            "---  ------         --------------    -----  \n",
            " 0   duree          1322006 non-null  object \n",
            " 1   annee          1322006 non-null  int64  \n",
            " 2   periode        1322006 non-null  object \n",
            " 3   geog           1322006 non-null  object \n",
            " 4   Libellé_Court  1322006 non-null  object \n",
            " 5   Q_ach          1322006 non-null  float64\n",
            " 6   S_dep          1322006 non-null  float64\n",
            " 7   nbr_act        1322006 non-null  float64\n",
            " 8   penet          1322005 non-null  float64\n",
            " 9   nbr_ach        1322005 non-null  float64\n",
            "dtypes: float64(5), int64(1), object(4)\n",
            "memory usage: 100.9+ MB\n"
          ]
        }
      ]
    },
    {
      "cell_type": "code",
      "source": [
        "df_last_ten_years = df[df.annee >= 2013]"
      ],
      "metadata": {
        "id": "3KHiOxsoiOdN"
      },
      "execution_count": null,
      "outputs": []
    },
    {
      "cell_type": "code",
      "source": [
        "df_last_ten_years.shape"
      ],
      "metadata": {
        "colab": {
          "base_uri": "https://localhost:8080/"
        },
        "id": "6Zf_fpNxius9",
        "outputId": "106f1f45-b490-452a-de87-7f3f0c832e63"
      },
      "execution_count": null,
      "outputs": [
        {
          "output_type": "execute_result",
          "data": {
            "text/plain": [
              "(705263, 10)"
            ]
          },
          "metadata": {},
          "execution_count": 17
        }
      ]
    },
    {
      "cell_type": "code",
      "source": [
        "df_last_ten_years.annee.unique()"
      ],
      "metadata": {
        "colab": {
          "base_uri": "https://localhost:8080/"
        },
        "id": "iXJVfvtNiwPb",
        "outputId": "5dde7088-3703-4d60-e101-89b30e6aec51"
      },
      "execution_count": null,
      "outputs": [
        {
          "output_type": "execute_result",
          "data": {
            "text/plain": [
              "array([2013, 2014, 2015, 2016, 2017, 2018, 2019, 2020, 2021, 2022, 2023])"
            ]
          },
          "metadata": {},
          "execution_count": 18
        }
      ]
    },
    {
      "cell_type": "code",
      "source": [
        "def create_df_only_tomatoes(df, colonne='Libellé_Court'):\n",
        "    regex = r'\\btomate?\\b'  # Ajout du 's?' pour gérer le pluriel\n",
        "    df_filtre =  df[df[colonne].str.contains(regex, flags=re.IGNORECASE, na=False)]\n",
        "    return df_filtre\n"
      ],
      "metadata": {
        "id": "v4He4sHqjJke"
      },
      "execution_count": null,
      "outputs": []
    },
    {
      "cell_type": "code",
      "source": [
        "df_filtre = create_df_only_tomatoes(df_last_ten_years)"
      ],
      "metadata": {
        "id": "bzTe0raDkLUP"
      },
      "execution_count": null,
      "outputs": []
    },
    {
      "cell_type": "code",
      "source": [
        "df_filtre.head()"
      ],
      "metadata": {
        "colab": {
          "base_uri": "https://localhost:8080/",
          "height": 206
        },
        "id": "J_5CtTRxjmFe",
        "outputId": "7d3570ff-329c-4cdf-d81d-ced7594538df"
      },
      "execution_count": null,
      "outputs": [
        {
          "output_type": "execute_result",
          "data": {
            "text/plain": [
              "       duree  annee periode                       geog Libellé_Court  \\\n",
              "187980     A   2013       A  200 000 HABITANTS ET PLUS        TOMATE   \n",
              "188337     A   2013       A             65 ANS ET PLUS        TOMATE   \n",
              "188694     A   2013       A   AGGLOMERATION PARISIENNE        TOMATE   \n",
              "188910     A   2013       A               AGRICULTEURS        TOMATE   \n",
              "189254     A   2013       A                      AISEE        TOMATE   \n",
              "\n",
              "               Q_ach         S_dep       nbr_act  penet       nbr_ach  \n",
              "187980  1.009684e+08  2.342191e+08  1.191554e+08   95.8  6.128174e+06  \n",
              "188337  1.116032e+08  2.575414e+08  1.393869e+08   96.6  6.724342e+06  \n",
              "188694  6.953107e+07  1.812509e+08  9.015769e+07   96.5  4.456841e+06  \n",
              "188910  4.921799e+06  1.086061e+07  4.558024e+06   96.1  3.446587e+05  \n",
              "189254  6.302054e+07  1.689827e+08  7.841656e+07   96.4  3.929624e+06  "
            ],
            "text/html": [
              "\n",
              "  <div id=\"df-41cf1126-9b7b-4c03-a537-9b50969ad63c\" class=\"colab-df-container\">\n",
              "    <div>\n",
              "<style scoped>\n",
              "    .dataframe tbody tr th:only-of-type {\n",
              "        vertical-align: middle;\n",
              "    }\n",
              "\n",
              "    .dataframe tbody tr th {\n",
              "        vertical-align: top;\n",
              "    }\n",
              "\n",
              "    .dataframe thead th {\n",
              "        text-align: right;\n",
              "    }\n",
              "</style>\n",
              "<table border=\"1\" class=\"dataframe\">\n",
              "  <thead>\n",
              "    <tr style=\"text-align: right;\">\n",
              "      <th></th>\n",
              "      <th>duree</th>\n",
              "      <th>annee</th>\n",
              "      <th>periode</th>\n",
              "      <th>geog</th>\n",
              "      <th>Libellé_Court</th>\n",
              "      <th>Q_ach</th>\n",
              "      <th>S_dep</th>\n",
              "      <th>nbr_act</th>\n",
              "      <th>penet</th>\n",
              "      <th>nbr_ach</th>\n",
              "    </tr>\n",
              "  </thead>\n",
              "  <tbody>\n",
              "    <tr>\n",
              "      <th>187980</th>\n",
              "      <td>A</td>\n",
              "      <td>2013</td>\n",
              "      <td>A</td>\n",
              "      <td>200 000 HABITANTS ET PLUS</td>\n",
              "      <td>TOMATE</td>\n",
              "      <td>1.009684e+08</td>\n",
              "      <td>2.342191e+08</td>\n",
              "      <td>1.191554e+08</td>\n",
              "      <td>95.8</td>\n",
              "      <td>6.128174e+06</td>\n",
              "    </tr>\n",
              "    <tr>\n",
              "      <th>188337</th>\n",
              "      <td>A</td>\n",
              "      <td>2013</td>\n",
              "      <td>A</td>\n",
              "      <td>65 ANS ET PLUS</td>\n",
              "      <td>TOMATE</td>\n",
              "      <td>1.116032e+08</td>\n",
              "      <td>2.575414e+08</td>\n",
              "      <td>1.393869e+08</td>\n",
              "      <td>96.6</td>\n",
              "      <td>6.724342e+06</td>\n",
              "    </tr>\n",
              "    <tr>\n",
              "      <th>188694</th>\n",
              "      <td>A</td>\n",
              "      <td>2013</td>\n",
              "      <td>A</td>\n",
              "      <td>AGGLOMERATION PARISIENNE</td>\n",
              "      <td>TOMATE</td>\n",
              "      <td>6.953107e+07</td>\n",
              "      <td>1.812509e+08</td>\n",
              "      <td>9.015769e+07</td>\n",
              "      <td>96.5</td>\n",
              "      <td>4.456841e+06</td>\n",
              "    </tr>\n",
              "    <tr>\n",
              "      <th>188910</th>\n",
              "      <td>A</td>\n",
              "      <td>2013</td>\n",
              "      <td>A</td>\n",
              "      <td>AGRICULTEURS</td>\n",
              "      <td>TOMATE</td>\n",
              "      <td>4.921799e+06</td>\n",
              "      <td>1.086061e+07</td>\n",
              "      <td>4.558024e+06</td>\n",
              "      <td>96.1</td>\n",
              "      <td>3.446587e+05</td>\n",
              "    </tr>\n",
              "    <tr>\n",
              "      <th>189254</th>\n",
              "      <td>A</td>\n",
              "      <td>2013</td>\n",
              "      <td>A</td>\n",
              "      <td>AISEE</td>\n",
              "      <td>TOMATE</td>\n",
              "      <td>6.302054e+07</td>\n",
              "      <td>1.689827e+08</td>\n",
              "      <td>7.841656e+07</td>\n",
              "      <td>96.4</td>\n",
              "      <td>3.929624e+06</td>\n",
              "    </tr>\n",
              "  </tbody>\n",
              "</table>\n",
              "</div>\n",
              "    <div class=\"colab-df-buttons\">\n",
              "\n",
              "  <div class=\"colab-df-container\">\n",
              "    <button class=\"colab-df-convert\" onclick=\"convertToInteractive('df-41cf1126-9b7b-4c03-a537-9b50969ad63c')\"\n",
              "            title=\"Convert this dataframe to an interactive table.\"\n",
              "            style=\"display:none;\">\n",
              "\n",
              "  <svg xmlns=\"http://www.w3.org/2000/svg\" height=\"24px\" viewBox=\"0 -960 960 960\">\n",
              "    <path d=\"M120-120v-720h720v720H120Zm60-500h600v-160H180v160Zm220 220h160v-160H400v160Zm0 220h160v-160H400v160ZM180-400h160v-160H180v160Zm440 0h160v-160H620v160ZM180-180h160v-160H180v160Zm440 0h160v-160H620v160Z\"/>\n",
              "  </svg>\n",
              "    </button>\n",
              "\n",
              "  <style>\n",
              "    .colab-df-container {\n",
              "      display:flex;\n",
              "      gap: 12px;\n",
              "    }\n",
              "\n",
              "    .colab-df-convert {\n",
              "      background-color: #E8F0FE;\n",
              "      border: none;\n",
              "      border-radius: 50%;\n",
              "      cursor: pointer;\n",
              "      display: none;\n",
              "      fill: #1967D2;\n",
              "      height: 32px;\n",
              "      padding: 0 0 0 0;\n",
              "      width: 32px;\n",
              "    }\n",
              "\n",
              "    .colab-df-convert:hover {\n",
              "      background-color: #E2EBFA;\n",
              "      box-shadow: 0px 1px 2px rgba(60, 64, 67, 0.3), 0px 1px 3px 1px rgba(60, 64, 67, 0.15);\n",
              "      fill: #174EA6;\n",
              "    }\n",
              "\n",
              "    .colab-df-buttons div {\n",
              "      margin-bottom: 4px;\n",
              "    }\n",
              "\n",
              "    [theme=dark] .colab-df-convert {\n",
              "      background-color: #3B4455;\n",
              "      fill: #D2E3FC;\n",
              "    }\n",
              "\n",
              "    [theme=dark] .colab-df-convert:hover {\n",
              "      background-color: #434B5C;\n",
              "      box-shadow: 0px 1px 3px 1px rgba(0, 0, 0, 0.15);\n",
              "      filter: drop-shadow(0px 1px 2px rgba(0, 0, 0, 0.3));\n",
              "      fill: #FFFFFF;\n",
              "    }\n",
              "  </style>\n",
              "\n",
              "    <script>\n",
              "      const buttonEl =\n",
              "        document.querySelector('#df-41cf1126-9b7b-4c03-a537-9b50969ad63c button.colab-df-convert');\n",
              "      buttonEl.style.display =\n",
              "        google.colab.kernel.accessAllowed ? 'block' : 'none';\n",
              "\n",
              "      async function convertToInteractive(key) {\n",
              "        const element = document.querySelector('#df-41cf1126-9b7b-4c03-a537-9b50969ad63c');\n",
              "        const dataTable =\n",
              "          await google.colab.kernel.invokeFunction('convertToInteractive',\n",
              "                                                    [key], {});\n",
              "        if (!dataTable) return;\n",
              "\n",
              "        const docLinkHtml = 'Like what you see? Visit the ' +\n",
              "          '<a target=\"_blank\" href=https://colab.research.google.com/notebooks/data_table.ipynb>data table notebook</a>'\n",
              "          + ' to learn more about interactive tables.';\n",
              "        element.innerHTML = '';\n",
              "        dataTable['output_type'] = 'display_data';\n",
              "        await google.colab.output.renderOutput(dataTable, element);\n",
              "        const docLink = document.createElement('div');\n",
              "        docLink.innerHTML = docLinkHtml;\n",
              "        element.appendChild(docLink);\n",
              "      }\n",
              "    </script>\n",
              "  </div>\n",
              "\n",
              "\n",
              "<div id=\"df-d5917335-34c7-4a9b-ad3e-c581cde84ee4\">\n",
              "  <button class=\"colab-df-quickchart\" onclick=\"quickchart('df-d5917335-34c7-4a9b-ad3e-c581cde84ee4')\"\n",
              "            title=\"Suggest charts\"\n",
              "            style=\"display:none;\">\n",
              "\n",
              "<svg xmlns=\"http://www.w3.org/2000/svg\" height=\"24px\"viewBox=\"0 0 24 24\"\n",
              "     width=\"24px\">\n",
              "    <g>\n",
              "        <path d=\"M19 3H5c-1.1 0-2 .9-2 2v14c0 1.1.9 2 2 2h14c1.1 0 2-.9 2-2V5c0-1.1-.9-2-2-2zM9 17H7v-7h2v7zm4 0h-2V7h2v10zm4 0h-2v-4h2v4z\"/>\n",
              "    </g>\n",
              "</svg>\n",
              "  </button>\n",
              "\n",
              "<style>\n",
              "  .colab-df-quickchart {\n",
              "      --bg-color: #E8F0FE;\n",
              "      --fill-color: #1967D2;\n",
              "      --hover-bg-color: #E2EBFA;\n",
              "      --hover-fill-color: #174EA6;\n",
              "      --disabled-fill-color: #AAA;\n",
              "      --disabled-bg-color: #DDD;\n",
              "  }\n",
              "\n",
              "  [theme=dark] .colab-df-quickchart {\n",
              "      --bg-color: #3B4455;\n",
              "      --fill-color: #D2E3FC;\n",
              "      --hover-bg-color: #434B5C;\n",
              "      --hover-fill-color: #FFFFFF;\n",
              "      --disabled-bg-color: #3B4455;\n",
              "      --disabled-fill-color: #666;\n",
              "  }\n",
              "\n",
              "  .colab-df-quickchart {\n",
              "    background-color: var(--bg-color);\n",
              "    border: none;\n",
              "    border-radius: 50%;\n",
              "    cursor: pointer;\n",
              "    display: none;\n",
              "    fill: var(--fill-color);\n",
              "    height: 32px;\n",
              "    padding: 0;\n",
              "    width: 32px;\n",
              "  }\n",
              "\n",
              "  .colab-df-quickchart:hover {\n",
              "    background-color: var(--hover-bg-color);\n",
              "    box-shadow: 0 1px 2px rgba(60, 64, 67, 0.3), 0 1px 3px 1px rgba(60, 64, 67, 0.15);\n",
              "    fill: var(--button-hover-fill-color);\n",
              "  }\n",
              "\n",
              "  .colab-df-quickchart-complete:disabled,\n",
              "  .colab-df-quickchart-complete:disabled:hover {\n",
              "    background-color: var(--disabled-bg-color);\n",
              "    fill: var(--disabled-fill-color);\n",
              "    box-shadow: none;\n",
              "  }\n",
              "\n",
              "  .colab-df-spinner {\n",
              "    border: 2px solid var(--fill-color);\n",
              "    border-color: transparent;\n",
              "    border-bottom-color: var(--fill-color);\n",
              "    animation:\n",
              "      spin 1s steps(1) infinite;\n",
              "  }\n",
              "\n",
              "  @keyframes spin {\n",
              "    0% {\n",
              "      border-color: transparent;\n",
              "      border-bottom-color: var(--fill-color);\n",
              "      border-left-color: var(--fill-color);\n",
              "    }\n",
              "    20% {\n",
              "      border-color: transparent;\n",
              "      border-left-color: var(--fill-color);\n",
              "      border-top-color: var(--fill-color);\n",
              "    }\n",
              "    30% {\n",
              "      border-color: transparent;\n",
              "      border-left-color: var(--fill-color);\n",
              "      border-top-color: var(--fill-color);\n",
              "      border-right-color: var(--fill-color);\n",
              "    }\n",
              "    40% {\n",
              "      border-color: transparent;\n",
              "      border-right-color: var(--fill-color);\n",
              "      border-top-color: var(--fill-color);\n",
              "    }\n",
              "    60% {\n",
              "      border-color: transparent;\n",
              "      border-right-color: var(--fill-color);\n",
              "    }\n",
              "    80% {\n",
              "      border-color: transparent;\n",
              "      border-right-color: var(--fill-color);\n",
              "      border-bottom-color: var(--fill-color);\n",
              "    }\n",
              "    90% {\n",
              "      border-color: transparent;\n",
              "      border-bottom-color: var(--fill-color);\n",
              "    }\n",
              "  }\n",
              "</style>\n",
              "\n",
              "  <script>\n",
              "    async function quickchart(key) {\n",
              "      const quickchartButtonEl =\n",
              "        document.querySelector('#' + key + ' button');\n",
              "      quickchartButtonEl.disabled = true;  // To prevent multiple clicks.\n",
              "      quickchartButtonEl.classList.add('colab-df-spinner');\n",
              "      try {\n",
              "        const charts = await google.colab.kernel.invokeFunction(\n",
              "            'suggestCharts', [key], {});\n",
              "      } catch (error) {\n",
              "        console.error('Error during call to suggestCharts:', error);\n",
              "      }\n",
              "      quickchartButtonEl.classList.remove('colab-df-spinner');\n",
              "      quickchartButtonEl.classList.add('colab-df-quickchart-complete');\n",
              "    }\n",
              "    (() => {\n",
              "      let quickchartButtonEl =\n",
              "        document.querySelector('#df-d5917335-34c7-4a9b-ad3e-c581cde84ee4 button');\n",
              "      quickchartButtonEl.style.display =\n",
              "        google.colab.kernel.accessAllowed ? 'block' : 'none';\n",
              "    })();\n",
              "  </script>\n",
              "</div>\n",
              "\n",
              "    </div>\n",
              "  </div>\n"
            ],
            "application/vnd.google.colaboratory.intrinsic+json": {
              "type": "dataframe",
              "variable_name": "df_filtre",
              "summary": "{\n  \"name\": \"df_filtre\",\n  \"rows\": 1311,\n  \"fields\": [\n    {\n      \"column\": \"duree\",\n      \"properties\": {\n        \"dtype\": \"category\",\n        \"num_unique_values\": 2,\n        \"samples\": [\n          \"M\",\n          \"A\"\n        ],\n        \"semantic_type\": \"\",\n        \"description\": \"\"\n      }\n    },\n    {\n      \"column\": \"annee\",\n      \"properties\": {\n        \"dtype\": \"number\",\n        \"std\": 3,\n        \"min\": 2013,\n        \"max\": 2023,\n        \"num_unique_values\": 11,\n        \"samples\": [\n          2018,\n          2013\n        ],\n        \"semantic_type\": \"\",\n        \"description\": \"\"\n      }\n    },\n    {\n      \"column\": \"periode\",\n      \"properties\": {\n        \"dtype\": \"category\",\n        \"num_unique_values\": 12,\n        \"samples\": [\n          10,\n          9\n        ],\n        \"semantic_type\": \"\",\n        \"description\": \"\"\n      }\n    },\n    {\n      \"column\": \"geog\",\n      \"properties\": {\n        \"dtype\": \"category\",\n        \"num_unique_values\": 116,\n        \"samples\": [\n          \"Vente/Liv. \\u00e0 Domicile\",\n          \"AISEE\"\n        ],\n        \"semantic_type\": \"\",\n        \"description\": \"\"\n      }\n    },\n    {\n      \"column\": \"Libell\\u00e9_Court\",\n      \"properties\": {\n        \"dtype\": \"category\",\n        \"num_unique_values\": 1,\n        \"samples\": [\n          \"TOMATE\"\n        ],\n        \"semantic_type\": \"\",\n        \"description\": \"\"\n      }\n    },\n    {\n      \"column\": \"Q_ach\",\n      \"properties\": {\n        \"dtype\": \"number\",\n        \"std\": 67175822.86207666,\n        \"min\": 3077.5805,\n        \"max\": 399186914.4,\n        \"num_unique_values\": 1300,\n        \"samples\": [\n          141578944.0\n        ],\n        \"semantic_type\": \"\",\n        \"description\": \"\"\n      }\n    },\n    {\n      \"column\": \"S_dep\",\n      \"properties\": {\n        \"dtype\": \"number\",\n        \"std\": 195648014.36652458,\n        \"min\": 11007.27,\n        \"max\": 1305203584.0,\n        \"num_unique_values\": 1300,\n        \"samples\": [\n          380550976.0\n        ],\n        \"semantic_type\": \"\",\n        \"description\": \"\"\n      }\n    },\n    {\n      \"column\": \"nbr_act\",\n      \"properties\": {\n        \"dtype\": \"number\",\n        \"std\": 85343477.2157105,\n        \"min\": 10028.139,\n        \"max\": 508398464.0,\n        \"num_unique_values\": 1300,\n        \"samples\": [\n          174136976.0\n        ],\n        \"semantic_type\": \"\",\n        \"description\": \"\"\n      }\n    },\n    {\n      \"column\": \"penet\",\n      \"properties\": {\n        \"dtype\": \"number\",\n        \"std\": 39.90146532325269,\n        \"min\": 0.0,\n        \"max\": 99.1,\n        \"num_unique_values\": 406,\n        \"samples\": [\n          3.7\n        ],\n        \"semantic_type\": \"\",\n        \"description\": \"\"\n      }\n    },\n    {\n      \"column\": \"nbr_ach\",\n      \"properties\": {\n        \"dtype\": \"number\",\n        \"std\": 5680275.825686178,\n        \"min\": 0.0,\n        \"max\": 27811774.0,\n        \"num_unique_values\": 1194,\n        \"samples\": [\n          3233127.5\n        ],\n        \"semantic_type\": \"\",\n        \"description\": \"\"\n      }\n    }\n  ]\n}"
            }
          },
          "metadata": {},
          "execution_count": 29
        }
      ]
    },
    {
      "cell_type": "code",
      "source": [
        "df_filtre[\"Libellé_Court\"].unique()"
      ],
      "metadata": {
        "colab": {
          "base_uri": "https://localhost:8080/"
        },
        "id": "AtxNOu0Jjn5W",
        "outputId": "772549c3-bead-4e80-a040-9ba9989ff072"
      },
      "execution_count": null,
      "outputs": [
        {
          "output_type": "execute_result",
          "data": {
            "text/plain": [
              "array(['TOMATE'], dtype=object)"
            ]
          },
          "metadata": {},
          "execution_count": 30
        }
      ]
    },
    {
      "cell_type": "code",
      "source": [
        "def find_tomate(df, colonne='Libellé_Court', str = 'tomate'):\n",
        "  regex = r'\\btomate?\\b'\n",
        "  resultats = df[df[colonne].str.contains(regex, flags=re.IGNORECASE, na=False)]\n",
        "  print(resultats[colonne].unique().tolist())\n",
        "  return resultats"
      ],
      "metadata": {
        "id": "eIdXRiEnj3mL"
      },
      "execution_count": null,
      "outputs": []
    },
    {
      "cell_type": "code",
      "source": [
        "test = find_tomate(df, colonne='Libellé_Court', str = 'tomate')"
      ],
      "metadata": {
        "colab": {
          "base_uri": "https://localhost:8080/"
        },
        "id": "w9q7n_MIkbMg",
        "outputId": "aea6f953-574e-422c-c75f-175ff304c6a9"
      },
      "execution_count": null,
      "outputs": [
        {
          "output_type": "stream",
          "name": "stdout",
          "text": [
            "['TOMATE']\n"
          ]
        }
      ]
    },
    {
      "cell_type": "code",
      "source": [
        "df.shape"
      ],
      "metadata": {
        "colab": {
          "base_uri": "https://localhost:8080/"
        },
        "id": "yz070kpikXks",
        "outputId": "4d3037e1-27d6-42a7-b577-de5a5089e6f1"
      },
      "execution_count": null,
      "outputs": [
        {
          "output_type": "execute_result",
          "data": {
            "text/plain": [
              "(1322006, 10)"
            ]
          },
          "metadata": {},
          "execution_count": 31
        }
      ]
    }
  ]
}